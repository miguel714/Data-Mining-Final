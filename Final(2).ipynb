{
 "cells": [
  {
   "cell_type": "code",
   "execution_count": 8,
   "metadata": {},
   "outputs": [],
   "source": [
    "import csv\n",
    "from sklearn.linear_model import Ridge, Lasso\n",
    "import pandas as pd\n",
    "from dmba import regressionSummary\n",
    "from sklearn.linear_model import LinearRegression\n",
    "import statsmodels.api as sm\n",
    "import statsmodels.formula.api as smf\n",
    "from sklearn.model_selection import train_test_split"
   ]
  },
  {
   "cell_type": "code",
   "execution_count": 2,
   "metadata": {},
   "outputs": [
    {
     "name": "stdout",
     "output_type": "stream",
     "text": [
      "     Customer  year  NoOfSalesCalls  NoOfTargetedEmails  NoOfSales  \\\n",
      "0           1  2009               1                   2          3   \n",
      "1           1  2010               1                   1          3   \n",
      "2           1  2011               1                   2          0   \n",
      "3           1  2012               3                   2          0   \n",
      "4           1  2013               3                   3          3   \n",
      "..        ...   ...             ...                 ...        ...   \n",
      "606        47  2017               1                   2          1   \n",
      "607        47  2018               0                   1          1   \n",
      "608        47  2019               3                   2          2   \n",
      "609        47  2020               5                   2          1   \n",
      "610        47  2021               3                   3          0   \n",
      "\n",
      "     CustomerSatisfaction  \n",
      "0                      -1  \n",
      "1                      -1  \n",
      "2                       1  \n",
      "3                       1  \n",
      "4                       1  \n",
      "..                    ...  \n",
      "606                     1  \n",
      "607                     1  \n",
      "608                     1  \n",
      "609                     1  \n",
      "610                     1  \n",
      "\n",
      "[611 rows x 6 columns]\n"
     ]
    }
   ],
   "source": [
    "SalesOfMedicalDevices = pd.read_csv('SalesOfMedicalDevices.csv')\n",
    "\n",
    "print(SalesOfMedicalDevices)"
   ]
  },
  {
   "cell_type": "code",
   "execution_count": 3,
   "metadata": {},
   "outputs": [
    {
     "data": {
      "text/plain": [
       "(611, 6)"
      ]
     },
     "execution_count": 3,
     "metadata": {},
     "output_type": "execute_result"
    }
   ],
   "source": [
    "SalesOfMedicalDevices.shape"
   ]
  },
  {
   "cell_type": "code",
   "execution_count": 4,
   "metadata": {},
   "outputs": [
    {
     "data": {
      "text/html": [
       "<div>\n",
       "<style scoped>\n",
       "    .dataframe tbody tr th:only-of-type {\n",
       "        vertical-align: middle;\n",
       "    }\n",
       "\n",
       "    .dataframe tbody tr th {\n",
       "        vertical-align: top;\n",
       "    }\n",
       "\n",
       "    .dataframe thead th {\n",
       "        text-align: right;\n",
       "    }\n",
       "</style>\n",
       "<table border=\"1\" class=\"dataframe\">\n",
       "  <thead>\n",
       "    <tr style=\"text-align: right;\">\n",
       "      <th></th>\n",
       "      <th>Customer</th>\n",
       "      <th>year</th>\n",
       "      <th>NoOfSalesCalls</th>\n",
       "      <th>NoOfTargetedEmails</th>\n",
       "      <th>NoOfSales</th>\n",
       "      <th>CustomerSatisfaction</th>\n",
       "    </tr>\n",
       "  </thead>\n",
       "  <tbody>\n",
       "    <tr>\n",
       "      <th>0</th>\n",
       "      <td>1</td>\n",
       "      <td>2009</td>\n",
       "      <td>1</td>\n",
       "      <td>2</td>\n",
       "      <td>3</td>\n",
       "      <td>-1</td>\n",
       "    </tr>\n",
       "    <tr>\n",
       "      <th>1</th>\n",
       "      <td>1</td>\n",
       "      <td>2010</td>\n",
       "      <td>1</td>\n",
       "      <td>1</td>\n",
       "      <td>3</td>\n",
       "      <td>-1</td>\n",
       "    </tr>\n",
       "    <tr>\n",
       "      <th>2</th>\n",
       "      <td>1</td>\n",
       "      <td>2011</td>\n",
       "      <td>1</td>\n",
       "      <td>2</td>\n",
       "      <td>0</td>\n",
       "      <td>1</td>\n",
       "    </tr>\n",
       "    <tr>\n",
       "      <th>3</th>\n",
       "      <td>1</td>\n",
       "      <td>2012</td>\n",
       "      <td>3</td>\n",
       "      <td>2</td>\n",
       "      <td>0</td>\n",
       "      <td>1</td>\n",
       "    </tr>\n",
       "    <tr>\n",
       "      <th>4</th>\n",
       "      <td>1</td>\n",
       "      <td>2013</td>\n",
       "      <td>3</td>\n",
       "      <td>3</td>\n",
       "      <td>3</td>\n",
       "      <td>1</td>\n",
       "    </tr>\n",
       "  </tbody>\n",
       "</table>\n",
       "</div>"
      ],
      "text/plain": [
       "   Customer  year  NoOfSalesCalls  NoOfTargetedEmails  NoOfSales  \\\n",
       "0         1  2009               1                   2          3   \n",
       "1         1  2010               1                   1          3   \n",
       "2         1  2011               1                   2          0   \n",
       "3         1  2012               3                   2          0   \n",
       "4         1  2013               3                   3          3   \n",
       "\n",
       "   CustomerSatisfaction  \n",
       "0                    -1  \n",
       "1                    -1  \n",
       "2                     1  \n",
       "3                     1  \n",
       "4                     1  "
      ]
     },
     "execution_count": 4,
     "metadata": {},
     "output_type": "execute_result"
    }
   ],
   "source": [
    "SalesOfMedicalDevices.head()"
   ]
  },
  {
   "cell_type": "code",
   "execution_count": null,
   "metadata": {},
   "outputs": [],
   "source": [
    "X = SalesOfMedicalDevices[['NoOfSalesCalls', 'NoOfTargetedEmails', 'NoOfSales', 'CustomerSatisfaction']]\n",
    "\n",
    "y = SalesOfMedicalDevices[\"Customer\"]"
   ]
  },
  {
   "cell_type": "code",
   "execution_count": 10,
   "metadata": {},
   "outputs": [],
   "source": [
    "x_train, x_test, y_train, y_test = train_test_split(X, y, test_size=0.2, random_state=42)"
   ]
  },
  {
   "cell_type": "code",
   "execution_count": 11,
   "metadata": {},
   "outputs": [
    {
     "name": "stdout",
     "output_type": "stream",
     "text": [
      "                            OLS Regression Results                            \n",
      "==============================================================================\n",
      "Dep. Variable:               Customer   R-squared:                       0.016\n",
      "Model:                            OLS   Adj. R-squared:                  0.010\n",
      "Method:                 Least Squares   F-statistic:                     2.463\n",
      "Date:                Thu, 04 May 2023   Prob (F-statistic):             0.0442\n",
      "Time:                        15:31:35   Log-Likelihood:                -2455.2\n",
      "No. Observations:                 611   AIC:                             4920.\n",
      "Df Residuals:                     606   BIC:                             4942.\n",
      "Df Model:                           4                                         \n",
      "Covariance Type:            nonrobust                                         \n",
      "========================================================================================\n",
      "                           coef    std err          t      P>|t|      [0.025      0.975]\n",
      "----------------------------------------------------------------------------------------\n",
      "const                   22.0151      1.033     21.318      0.000      19.987      24.043\n",
      "NoOfSalesCalls           0.9791      0.557      1.757      0.079      -0.115       2.073\n",
      "NoOfTargetedEmails      -0.5773      0.657     -0.879      0.380      -1.867       0.712\n",
      "NoOfSales                1.0572      0.420      2.517      0.012       0.232       1.882\n",
      "CustomerSatisfaction    -0.1431      0.741     -0.193      0.847      -1.599       1.313\n",
      "==============================================================================\n",
      "Omnibus:                      221.170   Durbin-Watson:                   0.021\n",
      "Prob(Omnibus):                  0.000   Jarque-Bera (JB):               31.272\n",
      "Skew:                           0.036   Prob(JB):                     1.62e-07\n",
      "Kurtosis:                       1.894   Cond. No.                         6.18\n",
      "==============================================================================\n",
      "\n",
      "Notes:\n",
      "[1] Standard Errors assume that the covariance matrix of the errors is correctly specified.\n"
     ]
    }
   ],
   "source": [
    "X = sm.add_constant(X)\n",
    "\n",
    "model = sm.OLS(y, X).fit()\n",
    "\n",
    "print(model.summary())"
   ]
  },
  {
   "cell_type": "code",
   "execution_count": 12,
   "metadata": {},
   "outputs": [
    {
     "name": "stdout",
     "output_type": "stream",
     "text": [
      "Intercept               22.015097\n",
      "NoOfSalesCalls           0.979080\n",
      "NoOfTargetedEmails      -0.577289\n",
      "NoOfSales                1.057182\n",
      "CustomerSatisfaction    -0.143139\n",
      "dtype: float64\n"
     ]
    }
   ],
   "source": [
    "model = smf.ols(formula='Customer ~ NoOfSalesCalls + NoOfTargetedEmails + NoOfSales + CustomerSatisfaction' , data=SalesOfMedicalDevices).fit()\n",
    "\n",
    "print(model.params)"
   ]
  },
  {
   "cell_type": "code",
   "execution_count": 13,
   "metadata": {},
   "outputs": [
    {
     "name": "stdout",
     "output_type": "stream",
     "text": [
      "\n",
      "Ridge Regression Model:\n",
      "\n",
      "Regression statistics\n",
      "\n",
      "                      Mean Error (ME) : 0.0000\n",
      "       Root Mean Squared Error (RMSE) : 13.4557\n",
      "            Mean Absolute Error (MAE) : 11.5890\n",
      "          Mean Percentage Error (MPE) : -125.4728\n",
      "Mean Absolute Percentage Error (MAPE) : 155.3383\n",
      "\n",
      "LASSO Regression Model:\n",
      "\n",
      "Regression statistics\n",
      "\n",
      "                      Mean Error (ME) : -0.0000\n",
      "       Root Mean Squared Error (RMSE) : 13.4580\n",
      "            Mean Absolute Error (MAE) : 11.5895\n",
      "          Mean Percentage Error (MPE) : -125.7488\n",
      "Mean Absolute Percentage Error (MAPE) : 155.6021\n"
     ]
    }
   ],
   "source": [
    "X = SalesOfMedicalDevices[['NoOfSalesCalls', 'NoOfTargetedEmails', 'NoOfSales', 'CustomerSatisfaction']]\n",
    "\n",
    "y = SalesOfMedicalDevices['Customer']\n",
    "\n",
    "ridge_model = Ridge(alpha=0.1)\n",
    "ridge_model.fit(X, y)\n",
    "\n",
    "lasso_model = Lasso(alpha=0.1)\n",
    "lasso_model.fit(X, y)\n",
    "\n",
    "print('\\nRidge Regression Model:')\n",
    "regressionSummary(y, ridge_model.predict(X))\n",
    "\n",
    "print('\\nLASSO Regression Model:')\n",
    "regressionSummary(y, lasso_model.predict(X))"
   ]
  }
 ],
 "metadata": {
  "kernelspec": {
   "display_name": "Python 3",
   "language": "python",
   "name": "python3"
  },
  "language_info": {
   "codemirror_mode": {
    "name": "ipython",
    "version": 3
   },
   "file_extension": ".py",
   "mimetype": "text/x-python",
   "name": "python",
   "nbconvert_exporter": "python",
   "pygments_lexer": "ipython3",
   "version": "3.11.1"
  },
  "orig_nbformat": 4,
  "vscode": {
   "interpreter": {
    "hash": "aee8b7b246df8f9039afb4144a1f6fd8d2ca17a180786b69acc140d282b71a49"
   }
  }
 },
 "nbformat": 4,
 "nbformat_minor": 2
}
