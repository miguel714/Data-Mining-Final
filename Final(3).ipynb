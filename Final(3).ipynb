{
 "cells": [
  {
   "cell_type": "code",
   "execution_count": 2,
   "metadata": {},
   "outputs": [],
   "source": [
    "import csv\n",
    "import pandas as pd\n",
    "from sklearn.model_selection import train_test_split\n",
    "from sklearn.preprocessing import StandardScaler\n",
    "from sklearn.neighbors import KNeighborsRegressor\n",
    "from sklearn.metrics import mean_squared_error"
   ]
  },
  {
   "cell_type": "code",
   "execution_count": 4,
   "metadata": {},
   "outputs": [
    {
     "name": "stdout",
     "output_type": "stream",
     "text": [
      "     Customer  year  NoOfSalesCalls  NoOfTargetedEmails  NoOfSales  \\\n",
      "0           1  2009               1                   2          3   \n",
      "1           1  2010               1                   1          3   \n",
      "2           1  2011               1                   2          0   \n",
      "3           1  2012               3                   2          0   \n",
      "4           1  2013               3                   3          3   \n",
      "..        ...   ...             ...                 ...        ...   \n",
      "606        47  2017               1                   2          1   \n",
      "607        47  2018               0                   1          1   \n",
      "608        47  2019               3                   2          2   \n",
      "609        47  2020               5                   2          1   \n",
      "610        47  2021               3                   3          0   \n",
      "\n",
      "     CustomerSatisfaction  \n",
      "0                      -1  \n",
      "1                      -1  \n",
      "2                       1  \n",
      "3                       1  \n",
      "4                       1  \n",
      "..                    ...  \n",
      "606                     1  \n",
      "607                     1  \n",
      "608                     1  \n",
      "609                     1  \n",
      "610                     1  \n",
      "\n",
      "[611 rows x 6 columns]\n"
     ]
    }
   ],
   "source": [
    "SalesOfMedicalDevices = pd.read_csv('SalesOfMedicalDevices.csv')\n",
    "\n",
    "print(SalesOfMedicalDevices)"
   ]
  },
  {
   "cell_type": "code",
   "execution_count": 5,
   "metadata": {},
   "outputs": [
    {
     "data": {
      "text/plain": [
       "(611, 6)"
      ]
     },
     "execution_count": 5,
     "metadata": {},
     "output_type": "execute_result"
    }
   ],
   "source": [
    "SalesOfMedicalDevices.shape"
   ]
  },
  {
   "cell_type": "code",
   "execution_count": 6,
   "metadata": {},
   "outputs": [
    {
     "data": {
      "text/html": [
       "<div>\n",
       "<style scoped>\n",
       "    .dataframe tbody tr th:only-of-type {\n",
       "        vertical-align: middle;\n",
       "    }\n",
       "\n",
       "    .dataframe tbody tr th {\n",
       "        vertical-align: top;\n",
       "    }\n",
       "\n",
       "    .dataframe thead th {\n",
       "        text-align: right;\n",
       "    }\n",
       "</style>\n",
       "<table border=\"1\" class=\"dataframe\">\n",
       "  <thead>\n",
       "    <tr style=\"text-align: right;\">\n",
       "      <th></th>\n",
       "      <th>Customer</th>\n",
       "      <th>year</th>\n",
       "      <th>NoOfSalesCalls</th>\n",
       "      <th>NoOfTargetedEmails</th>\n",
       "      <th>NoOfSales</th>\n",
       "      <th>CustomerSatisfaction</th>\n",
       "    </tr>\n",
       "  </thead>\n",
       "  <tbody>\n",
       "    <tr>\n",
       "      <th>0</th>\n",
       "      <td>1</td>\n",
       "      <td>2009</td>\n",
       "      <td>1</td>\n",
       "      <td>2</td>\n",
       "      <td>3</td>\n",
       "      <td>-1</td>\n",
       "    </tr>\n",
       "    <tr>\n",
       "      <th>1</th>\n",
       "      <td>1</td>\n",
       "      <td>2010</td>\n",
       "      <td>1</td>\n",
       "      <td>1</td>\n",
       "      <td>3</td>\n",
       "      <td>-1</td>\n",
       "    </tr>\n",
       "    <tr>\n",
       "      <th>2</th>\n",
       "      <td>1</td>\n",
       "      <td>2011</td>\n",
       "      <td>1</td>\n",
       "      <td>2</td>\n",
       "      <td>0</td>\n",
       "      <td>1</td>\n",
       "    </tr>\n",
       "    <tr>\n",
       "      <th>3</th>\n",
       "      <td>1</td>\n",
       "      <td>2012</td>\n",
       "      <td>3</td>\n",
       "      <td>2</td>\n",
       "      <td>0</td>\n",
       "      <td>1</td>\n",
       "    </tr>\n",
       "    <tr>\n",
       "      <th>4</th>\n",
       "      <td>1</td>\n",
       "      <td>2013</td>\n",
       "      <td>3</td>\n",
       "      <td>3</td>\n",
       "      <td>3</td>\n",
       "      <td>1</td>\n",
       "    </tr>\n",
       "  </tbody>\n",
       "</table>\n",
       "</div>"
      ],
      "text/plain": [
       "   Customer  year  NoOfSalesCalls  NoOfTargetedEmails  NoOfSales  \\\n",
       "0         1  2009               1                   2          3   \n",
       "1         1  2010               1                   1          3   \n",
       "2         1  2011               1                   2          0   \n",
       "3         1  2012               3                   2          0   \n",
       "4         1  2013               3                   3          3   \n",
       "\n",
       "   CustomerSatisfaction  \n",
       "0                    -1  \n",
       "1                    -1  \n",
       "2                     1  \n",
       "3                     1  \n",
       "4                     1  "
      ]
     },
     "execution_count": 6,
     "metadata": {},
     "output_type": "execute_result"
    }
   ],
   "source": [
    "SalesOfMedicalDevices.head()"
   ]
  },
  {
   "cell_type": "code",
   "execution_count": 14,
   "metadata": {},
   "outputs": [],
   "source": [
    "predictors = SalesOfMedicalDevices.loc[2:5]\n",
    "\n",
    "target = SalesOfMedicalDevices.Customer"
   ]
  },
  {
   "cell_type": "code",
   "execution_count": 15,
   "metadata": {},
   "outputs": [],
   "source": [
    "scaler = StandardScaler()\n",
    "\n",
    "X = scaler.fit_transform(predictors)"
   ]
  },
  {
   "cell_type": "code",
   "execution_count": 16,
   "metadata": {},
   "outputs": [],
   "source": [
    "X = SalesOfMedicalDevices.iloc[:, :-1]\n",
    "\n",
    "y = SalesOfMedicalDevices.iloc[:, -1]"
   ]
  },
  {
   "cell_type": "code",
   "execution_count": 17,
   "metadata": {},
   "outputs": [],
   "source": [
    "X_train, X_val, y_train, y_val = train_test_split(X, target, test_size=0.2, random_state=42)"
   ]
  },
  {
   "cell_type": "code",
   "execution_count": 18,
   "metadata": {},
   "outputs": [
    {
     "name": "stdout",
     "output_type": "stream",
     "text": [
      "(488, 5)\n",
      "(123, 5)\n",
      "(488,)\n",
      "(123,)\n"
     ]
    }
   ],
   "source": [
    "print(X_train.shape)\n",
    "print(X_val.shape)\n",
    "print(y_train.shape)\n",
    "print(y_val.shape)"
   ]
  },
  {
   "cell_type": "code",
   "execution_count": 19,
   "metadata": {},
   "outputs": [
    {
     "name": "stdout",
     "output_type": "stream",
     "text": [
      "k = 1: MSE = 0.61\n",
      "k = 2: MSE = 0.47\n",
      "k = 3: MSE = 0.34\n",
      "k = 4: MSE = 0.35\n",
      "k = 5: MSE = 0.36\n"
     ]
    }
   ],
   "source": [
    "for k in range(1, 6):\n",
    "    knn = KNeighborsRegressor(n_neighbors=k)\n",
    "    knn.fit(X_train, y_train)\n",
    "    y_pred = knn.predict(X_val)\n",
    "    mse = mean_squared_error(y_val, y_pred)\n",
    "    print(f\"k = {k}: MSE = {mse:.2f}\")"
   ]
  },
  {
   "cell_type": "code",
   "execution_count": 13,
   "metadata": {},
   "outputs": [
    {
     "name": "stdout",
     "output_type": "stream",
     "text": [
      "k = 1: MSE_train = 0.00\n",
      "k = 2: MSE_train = 0.15\n",
      "k = 3: MSE_train = 0.19\n",
      "k = 4: MSE_train = 0.21\n",
      "k = 5: MSE_train = 0.23\n"
     ]
    }
   ],
   "source": [
    "for k in range(1, 6):\n",
    "    knn = KNeighborsRegressor(n_neighbors=k)\n",
    "    knn.fit(X_train, y_train)\n",
    "    y_pred_train = knn.predict(X_train)\n",
    "    mse_train = mean_squared_error(y_train, y_pred_train)\n",
    "    print(f\"k = {k}: MSE_train = {mse_train:.2f}\")"
   ]
  }
 ],
 "metadata": {
  "kernelspec": {
   "display_name": "Python 3",
   "language": "python",
   "name": "python3"
  },
  "language_info": {
   "codemirror_mode": {
    "name": "ipython",
    "version": 3
   },
   "file_extension": ".py",
   "mimetype": "text/x-python",
   "name": "python",
   "nbconvert_exporter": "python",
   "pygments_lexer": "ipython3",
   "version": "3.11.1"
  },
  "orig_nbformat": 4,
  "vscode": {
   "interpreter": {
    "hash": "aee8b7b246df8f9039afb4144a1f6fd8d2ca17a180786b69acc140d282b71a49"
   }
  }
 },
 "nbformat": 4,
 "nbformat_minor": 2
}
